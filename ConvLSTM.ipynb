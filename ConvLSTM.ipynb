{
 "cells": [
  {
   "cell_type": "code",
   "execution_count": 9,
   "metadata": {},
   "outputs": [],
   "source": [
    "import os\n",
    "import glob\n",
    "import numpy as np\n",
    "import pandas as pd\n",
    "import xarray as xr\n",
    "import matplotlib.pyplot as plt\n",
    "import matplotlib\n",
    "import tensorflow as tf\n",
    "import time"
   ]
  },
  {
   "cell_type": "code",
   "execution_count": null,
   "metadata": {},
   "outputs": [],
   "source": [
    "plt"
   ]
  },
  {
   "cell_type": "code",
   "execution_count": null,
   "metadata": {},
   "outputs": [],
   "source": [
    "%config Completer.use_jedi = False"
   ]
  },
  {
   "cell_type": "code",
   "execution_count": 11,
   "metadata": {},
   "outputs": [],
   "source": [
    "\n",
    "\n",
    "class Timer():\n",
    "    \"\"\"\n",
    "    A small class to measure time during training.\n",
    "    \"\"\"\n",
    "    def __init__(self):\n",
    "        self._start_time = None\n",
    "\n",
    "    def start(self):\n",
    "        \"\"\"\n",
    "        Start a new timer\n",
    "        \"\"\"\n",
    "        self._start_time = time.perf_counter()\n",
    "\n",
    "    def stop(self):\n",
    "        \"\"\"\n",
    "        Stop the timer, and report the elapsed time\n",
    "        \"\"\"\n",
    "        if self._start_time is None:\n",
    "            print(f\"Timer is not running. Use .start() to start it\")\n",
    "            return 0\n",
    "    \n",
    "        elapsed_time = time.perf_counter() - self._start_time\n",
    "        self._start_time = None\n",
    "        \n",
    "        return elapsed_time"
   ]
  },
  {
   "cell_type": "code",
   "execution_count": null,
   "metadata": {},
   "outputs": [],
   "source": []
  },
  {
   "cell_type": "code",
   "execution_count": 12,
   "metadata": {},
   "outputs": [],
   "source": [
    "batch_size = 32\n",
    "models = ['GFDL-ESM4','IPSL-CM6A-LR','MPI-ESM1-2-HR']  # models for temp, prec, LAI\n",
    "day_len = 10  # for gen_data_card()\n",
    "\n",
    "MODEL = 'MPI-ESM1-2-HR'#np.random.choice(np.array(models))\n",
    "temp_ds = np.array(xr.open_mfdataset('data/near_surface_air_temperature/historical/{}/*.nc'.format(MODEL)).tas)\n",
    "\n",
    "\n",
    "prec_ds = np.array(xr.open_mfdataset('data/precipitation_flux/historical/{}/*.nc'.format(MODEL)).pr)\n",
    "\n",
    "# Normalize inputs\n",
    "temp_ds = (temp_ds - np.mean(temp_ds)) / np.std(temp_ds)\n",
    "prec_ds = (prec_ds - np.mean(prec_ds)) / np.std(prec_ds)\n",
    "\n",
    "\n",
    "\n",
    "max_month = 1978\n",
    "\n",
    "min_month = day_len//32\n",
    "\n",
    "\n",
    "def gen_data_card():\n",
    "    while True:\n",
    "        \n",
    "        output_month_i = np.random.randint(min_month, max_month)  # y_pred timepoint in int\n",
    "\n",
    "        # month-based metrics\n",
    "        \n",
    "        lai = xr.open_mfdataset('data/leaf_area_index/historical/{}/*.nc'.format(MODEL))\n",
    "\n",
    "        # compute day index\n",
    "        try:\n",
    "            endstamp = lai.indexes['time'].to_datetimeindex()[output_month_i]  # cfttimeindex to datetime\n",
    "        except:\n",
    "            endstamp = lai.indexes['time'][output_month_i]\n",
    "        output_day_i = (endstamp - pd.Timestamp('1850-01-01T12')).days  # output is i-th day in int\n",
    "\n",
    "        # continue with month-based metrics\n",
    "        lai = np.array(lai.lai)[output_month_i]\n",
    "        npp_files = glob.glob('data/net_primary_production_on_land/historical/**/*.nc', recursive=True) \n",
    "        npp = xr.open_mfdataset(np.random.choice(np.array(npp_files)))\n",
    "        npp = np.array(npp.npp)[output_month_i]\n",
    "\n",
    "        # day-based metrics\n",
    "        temp = temp_ds[output_day_i-day_len:output_day_i]\n",
    "        prec = prec_ds[output_day_i-day_len:output_day_i]\n",
    "\n",
    "        inputs = np.stack((temp,prec), axis=-1)  # two features\n",
    "        outputs = np.stack((lai,npp), axis=-1)\n",
    "        outputs = np.nan_to_num(outputs)\n",
    "\n",
    "        yield (inputs, outputs)"
   ]
  },
  {
   "cell_type": "code",
   "execution_count": 13,
   "metadata": {},
   "outputs": [],
   "source": [
    "BATCH_SIZE = 16\n",
    "\n",
    "ds = tf.data.Dataset.from_generator(gen_data_card,output_types = (tf.float32,tf.float32))\n",
    "train_ds = ds.batch(BATCH_SIZE).take(3).prefetch(tf.data.experimental.AUTOTUNE)\n",
    "\n",
    "val_ds = ds.batch(BATCH_SIZE).take(3).prefetch(tf.data.experimental.AUTOTUNE)"
   ]
  },
  {
   "cell_type": "code",
   "execution_count": 66,
   "metadata": {},
   "outputs": [
    {
     "name": "stdout",
     "output_type": "stream",
     "text": [
      "tf.Tensor(\n",
      "[[[[-2.512784   -0.44727772]\n",
      "   [-2.4650705  -0.44727772]\n",
      "   [-2.4297342  -0.44727772]\n",
      "   ...\n",
      "   [-2.6296523  -0.44727772]\n",
      "   [-2.5999367  -0.44727772]\n",
      "   [-2.55554    -0.44727772]]\n",
      "\n",
      "  [[-2.0333936  -0.44727772]\n",
      "   [-2.1277378  -0.44727772]\n",
      "   [-2.1965034  -0.44727772]\n",
      "   ...\n",
      "   [-1.9909233  -0.44727772]\n",
      "   [-1.8987546  -0.44727772]\n",
      "   [-1.7736828  -0.44727772]]\n",
      "\n",
      "  [[-1.5059904  -0.3524496 ]\n",
      "   [-1.4891313  -0.34661514]\n",
      "   [-1.4943172  -0.3412043 ]\n",
      "   ...\n",
      "   [-1.4922099  -0.44727772]\n",
      "   [-1.8012689  -0.44727772]\n",
      "   [-1.6812799  -0.41342008]]\n",
      "\n",
      "  ...\n",
      "\n",
      "  [[-0.20360109 -0.39300036]\n",
      "   [-0.20677851 -0.41138065]\n",
      "   [-0.20510815 -0.39830148]\n",
      "   ...\n",
      "   [-0.18692897 -0.40811795]\n",
      "   [-0.18678428 -0.44727772]\n",
      "   [-0.19196871 -0.3960032 ]]\n",
      "\n",
      "  [[-0.22129607 -0.38013077]\n",
      "   [-0.21895383 -0.39895222]\n",
      "   [-0.21698263 -0.40002558]\n",
      "   ...\n",
      "   [-0.22147945 -0.37127164]\n",
      "   [-0.22329307 -0.36287305]\n",
      "   [-0.22372855 -0.36605775]]\n",
      "\n",
      "  [[-0.2055107  -0.384136  ]\n",
      "   [-0.2066725  -0.38129818]\n",
      "   [-0.20668682 -0.3759824 ]\n",
      "   ...\n",
      "   [-0.20801194 -0.37963954]\n",
      "   [-0.20667537 -0.3850818 ]\n",
      "   [-0.20586453 -0.37634248]]]\n",
      "\n",
      "\n",
      " [[[-2.5403078  -0.44727772]\n",
      "   [-2.4960287  -0.44727772]\n",
      "   [-2.472194   -0.44727772]\n",
      "   ...\n",
      "   [-2.6514363  -0.44727772]\n",
      "   [-2.6269317  -0.44727772]\n",
      "   [-2.5812058  -0.44727772]]\n",
      "\n",
      "  [[-1.9152375  -0.44727772]\n",
      "   [-1.9328924  -0.44727772]\n",
      "   [-1.9443637  -0.44727772]\n",
      "   ...\n",
      "   [-2.2104623  -0.44727772]\n",
      "   [-2.1117504  -0.44727772]\n",
      "   [-1.8976421  -0.44727772]]\n",
      "\n",
      "  [[-1.3951619  -0.09856255]\n",
      "   [-1.4813045  -0.07720722]\n",
      "   [-1.5565218  -0.16931878]\n",
      "   ...\n",
      "   [-1.4783155  -0.3087829 ]\n",
      "   [-1.5845398  -0.36014643]\n",
      "   [-1.4648509  -0.13590035]]\n",
      "\n",
      "  ...\n",
      "\n",
      "  [[-0.2155687  -0.3878767 ]\n",
      "   [-0.20363691 -0.3911913 ]\n",
      "   [-0.20336616 -0.40060017]\n",
      "   ...\n",
      "   [-0.21458884 -0.3826044 ]\n",
      "   [-0.21114495 -0.4159446 ]\n",
      "   [-0.21127532 -0.40297028]]\n",
      "\n",
      "  [[-0.22433883 -0.3646013 ]\n",
      "   [-0.2242715  -0.38146108]\n",
      "   [-0.21957271 -0.3920442 ]\n",
      "   ...\n",
      "   [-0.20459959 -0.39305878]\n",
      "   [-0.2117409  -0.37882438]\n",
      "   [-0.21992224 -0.36690256]]\n",
      "\n",
      "  [[-0.21104467 -0.36073405]\n",
      "   [-0.21404733 -0.35974675]\n",
      "   [-0.21518478 -0.36585128]\n",
      "   ...\n",
      "   [-0.20578718 -0.3798322 ]\n",
      "   [-0.20776984 -0.38292953]\n",
      "   [-0.20935282 -0.370885  ]]]\n",
      "\n",
      "\n",
      " [[[-2.6205826  -0.4393521 ]\n",
      "   [-2.5712848  -0.44727772]\n",
      "   [-2.53654    -0.44727772]\n",
      "   ...\n",
      "   [-2.779694   -0.44727772]\n",
      "   [-2.7348156  -0.44727772]\n",
      "   [-2.6776214  -0.44727772]]\n",
      "\n",
      "  [[-1.9440564  -0.44727772]\n",
      "   [-1.9748492  -0.44727772]\n",
      "   [-2.007038   -0.44727772]\n",
      "   ...\n",
      "   [-2.1523907  -0.44727772]\n",
      "   [-2.0597498  -0.44727772]\n",
      "   [-1.9483541  -0.44727772]]\n",
      "\n",
      "  [[-1.3701752   0.42951763]\n",
      "   [-1.2195508   0.76949006]\n",
      "   [-0.9733068   0.9870513 ]\n",
      "   ...\n",
      "   [-1.412955   -0.29451808]\n",
      "   [-1.5710866  -0.33343104]\n",
      "   [-1.4745436   0.02859362]]\n",
      "\n",
      "  ...\n",
      "\n",
      "  [[-0.19865304 -0.386102  ]\n",
      "   [-0.2142794  -0.37988293]\n",
      "   [-0.21869168 -0.3774281 ]\n",
      "   ...\n",
      "   [-0.16973682  0.8308889 ]\n",
      "   [-0.1765773   0.20369305]\n",
      "   [-0.18567978 -0.3457681 ]]\n",
      "\n",
      "  [[-0.18832284 -0.44727772]\n",
      "   [-0.19658442 -0.4265416 ]\n",
      "   [-0.21562886 -0.3803022 ]\n",
      "   ...\n",
      "   [-0.18422572 -0.37393424]\n",
      "   [-0.18290778 -0.38928264]\n",
      "   [-0.18410397 -0.44727772]]\n",
      "\n",
      "  [[-0.20566685 -0.41212043]\n",
      "   [-0.2131663  -0.39392987]\n",
      "   [-0.21973458 -0.39251563]\n",
      "   ...\n",
      "   [-0.19166932 -0.40007076]\n",
      "   [-0.19564609 -0.40353736]\n",
      "   [-0.20024318 -0.40506944]]]\n",
      "\n",
      "\n",
      " ...\n",
      "\n",
      "\n",
      " [[[-2.536798   -0.44727772]\n",
      "   [-2.4767244  -0.44727772]\n",
      "   [-2.4060826  -0.39830053]\n",
      "   ...\n",
      "   [-2.6682503  -0.44727772]\n",
      "   [-2.6390405  -0.44727772]\n",
      "   [-2.587249   -0.44727772]]\n",
      "\n",
      "  [[-0.9679218  -0.20650725]\n",
      "   [-0.9917524  -0.34107083]\n",
      "   [-0.9757679  -0.17148961]\n",
      "   ...\n",
      "   [-1.4444584  -0.07485898]\n",
      "   [-1.1586521  -0.0098684 ]\n",
      "   [-1.0263587  -0.30134633]]\n",
      "\n",
      "  [[-1.3376231  -0.07231529]\n",
      "   [-1.3033041  -0.19710183]\n",
      "   [-1.1139698  -0.15181527]\n",
      "   ...\n",
      "   [-1.1673863  -0.44727772]\n",
      "   [-1.2533463  -0.42416662]\n",
      "   [-1.312683   -0.30056843]]\n",
      "\n",
      "  ...\n",
      "\n",
      "  [[-0.20801051 -0.07517044]\n",
      "   [-0.20784433 -0.03580122]\n",
      "   [-0.21825618 -0.44727772]\n",
      "   ...\n",
      "   [-0.2027387  -0.36540452]\n",
      "   [-0.20756643 -0.37234583]\n",
      "   [-0.20885429 -0.35958335]]\n",
      "\n",
      "  [[-0.19227672 -0.3758198 ]\n",
      "   [-0.190019   -0.3732389 ]\n",
      "   [-0.18917093 -0.3471589 ]\n",
      "   ...\n",
      "   [-0.20349365 -0.3484835 ]\n",
      "   [-0.1966231  -0.37116542]\n",
      "   [-0.19344854 -0.3904883 ]]\n",
      "\n",
      "  [[-0.18579152 -0.44727772]\n",
      "   [-0.18469417 -0.4010612 ]\n",
      "   [-0.18315418 -0.37742352]\n",
      "   ...\n",
      "   [-0.19052182 -0.4126598 ]\n",
      "   [-0.18932994 -0.40160632]\n",
      "   [-0.1876782  -0.44727772]]]\n",
      "\n",
      "\n",
      " [[[-2.5523963  -0.44727772]\n",
      "   [-2.5233376  -0.44727772]\n",
      "   [-2.4987779  -0.44727772]\n",
      "   ...\n",
      "   [-2.6384108  -0.44727772]\n",
      "   [-2.6168652  -0.44727772]\n",
      "   [-2.5831828  -0.44727772]]\n",
      "\n",
      "  [[-1.1075884  -0.41692495]\n",
      "   [-1.1982774  -0.40479767]\n",
      "   [-1.2467594  -0.44727772]\n",
      "   ...\n",
      "   [-1.602547   -0.44727772]\n",
      "   [-1.284357   -0.38939694]\n",
      "   [-1.1365412  -0.42204836]]\n",
      "\n",
      "  [[-1.3109267  -0.32313165]\n",
      "   [-1.3760308  -0.32722014]\n",
      "   [-1.4162484  -0.36566827]\n",
      "   ...\n",
      "   [-1.2408029  -0.44727772]\n",
      "   [-1.2645555  -0.44727772]\n",
      "   [-1.3307877  -0.41203466]]\n",
      "\n",
      "  ...\n",
      "\n",
      "  [[-0.1863273  -0.36281985]\n",
      "   [-0.18846467 -0.39868554]\n",
      "   [-0.19996239 -0.40657824]\n",
      "   ...\n",
      "   [-0.21861576 -0.38149288]\n",
      "   [-0.1982992  -0.39126104]\n",
      "   [-0.19160914 -0.40046352]]\n",
      "\n",
      "  [[-0.1857815  -0.23597635]\n",
      "   [-0.18383034 -0.04615853]\n",
      "   [-0.18285477 -0.00320492]\n",
      "   ...\n",
      "   [-0.19054331 -0.3727946 ]\n",
      "   [-0.18631297 -0.38569698]\n",
      "   [-0.18576    -0.42856824]]\n",
      "\n",
      "  [[-0.1926764  -0.42457733]\n",
      "   [-0.19355312 -0.40938497]\n",
      "   [-0.19376801 -0.41219974]\n",
      "   ...\n",
      "   [-0.19263199 -0.38799956]\n",
      "   [-0.19267926 -0.40370968]\n",
      "   [-0.1925661  -0.41574365]]]\n",
      "\n",
      "\n",
      " [[[-2.4589112  -0.44727772]\n",
      "   [-2.4369657  -0.44727772]\n",
      "   [-2.4198697  -0.44727772]\n",
      "   ...\n",
      "   [-2.5315864  -0.44727772]\n",
      "   [-2.5043268  -0.44727772]\n",
      "   [-2.474483   -0.44727772]]\n",
      "\n",
      "  [[-1.4091014  -0.44727772]\n",
      "   [-1.443533   -0.44727772]\n",
      "   [-1.4344076  -0.44727772]\n",
      "   ...\n",
      "   [-1.761867   -0.42087704]\n",
      "   [-1.5482173  -0.40640557]\n",
      "   [-1.4411557  -0.44727772]]\n",
      "\n",
      "  [[-1.3582513  -0.30681252]\n",
      "   [-1.4296286  -0.40533754]\n",
      "   [-1.4909693  -0.4062264 ]\n",
      "   ...\n",
      "   [-1.3446993  -0.44727772]\n",
      "   [-1.4837198  -0.44727772]\n",
      "   [-1.4574481  -0.41162077]]\n",
      "\n",
      "  ...\n",
      "\n",
      "  [[-0.19505158 -0.41690946]\n",
      "   [-0.20175739 -0.39760706]\n",
      "   [-0.21774763 -0.41125658]\n",
      "   ...\n",
      "   [-0.23258178 -0.41219828]\n",
      "   [-0.22255386 -0.44727772]\n",
      "   [-0.20181613 -0.44727772]]\n",
      "\n",
      "  [[-0.22918947 -0.36824036]\n",
      "   [-0.21783215 -0.37039435]\n",
      "   [-0.20290917 -0.3750275 ]\n",
      "   ...\n",
      "   [-0.2261238  -0.3885791 ]\n",
      "   [-0.22917515 -0.3654916 ]\n",
      "   [-0.23299292 -0.35096663]]\n",
      "\n",
      "  [[-0.20331745 -0.3551704 ]\n",
      "   [-0.20387328 -0.3662768 ]\n",
      "   [-0.20249373 -0.3685669 ]\n",
      "   ...\n",
      "   [-0.20198947 -0.36220554]\n",
      "   [-0.20286334 -0.35158288]\n",
      "   [-0.2030338  -0.34483862]]]], shape=(10, 36, 72, 2), dtype=float32)\n"
     ]
    }
   ],
   "source": [
    "a = []\n",
    "for i in train_ds.take(1):\n",
    "    print(i[0][0])"
   ]
  },
  {
   "cell_type": "code",
   "execution_count": 14,
   "metadata": {},
   "outputs": [],
   "source": [
    "class ConvLSTM(tf.keras.Model):\n",
    "    def __init__(self, num_filters):\n",
    "        super(ConvLSTM, self).__init__()\n",
    "        \n",
    "        \n",
    "        self.convlstm2D_1 = tf.keras.layers.ConvLSTM2D(filters = num_filters, kernel_size=(3,3),\n",
    "                                                     padding=\"same\",return_sequences=True)\n",
    "        \n",
    "        \n",
    "        self.bn_1 = tf.keras.layers.BatchNormalization()\n",
    "        \n",
    "        self.convlstm2D_2 = tf.keras.layers.ConvLSTM2D(filters = num_filters, kernel_size=(3,3),\n",
    "                                                     padding=\"same\",return_sequences=True)\n",
    "\n",
    "        self.bn_2 = tf.keras.layers.BatchNormalization()\n",
    "\n",
    "\n",
    "        self.convlstm2D_3 = tf.keras.layers.ConvLSTM2D(filters = num_filters, kernel_size=(3,3),\n",
    "                                                     padding=\"same\",return_sequences=True)\n",
    "\n",
    "        self.bn_3 = tf.keras.layers.BatchNormalization()\n",
    "        \n",
    "        self.convlstm2D_4 = tf.keras.layers.ConvLSTM2D(filters = num_filters, kernel_size=(3,3),\n",
    "                                                     padding=\"same\",return_sequences=True)\n",
    "\n",
    "        self.bn_4 = tf.keras.layers.BatchNormalization()\n",
    "        \n",
    "        self.conv3d = tf.keras.layers.Conv3D(filters = 2, kernel_size = (3,3,3), \n",
    "                                             activation= \"relu\", padding=\"same\")\n",
    "        \n",
    "        self.bottleneck = tf.keras.layers.Conv3D(filters=1, kernel_size=1, activation=\"relu\",strides=1)\n",
    "\n",
    "\n",
    "    def call(self,x,training, shape):\n",
    "        x = tf.ensure_shape(x, shape)\n",
    "        x = self.convlstm2D_1(x,training= training)\n",
    "        x = self.bn_1(x,training = training)\n",
    "        \n",
    "        x = self.convlstm2D_2(x,training = training)\n",
    "        x = self.bn_2(x,training = training)\n",
    "        \n",
    "        x = self.convlstm2D_3(x,training = training)\n",
    "        x = self.bn_3(x,training = training)\n",
    "        \n",
    "        x = self.convlstm2D_4(x,training = training)\n",
    "        x = self.bn_4(x, training = training)\n",
    "        \n",
    "        x = self.conv3d(x)\n",
    "        \n",
    "        # bottleneck (change time_step dim to be channel dimension so we can use the bottleneck)\n",
    "        x = tf.transpose(x, [0,4,2,3,1])\n",
    "        x = self.bottleneck(x)\n",
    "        # change back to desired dimensions\n",
    "        x = tf.transpose(x, [0,4,2,3,1])\n",
    "        x = tf.squeeze(x,axis=1)\n",
    "        \n",
    "        return x"
   ]
  },
  {
   "cell_type": "code",
   "execution_count": 53,
   "metadata": {},
   "outputs": [],
   "source": [
    "@tf.function\n",
    "def train_step(model, data, loss_function, optimizer, train_loss_metric, train_acc_metric, shape):\n",
    "    '''\n",
    "    Training for one epoch.\n",
    "    '''\n",
    "    for img, target in train_ds:\n",
    "        # forward pass with GradientTape\n",
    "        with tf.GradientTape() as tape:\n",
    "            prediction = model(img, training=True, shape =  shape)\n",
    "            loss = loss_function(target, prediction) + tf.reduce_sum(model.losses)\n",
    "\n",
    "        # backward pass via GradienTape (auto-gradient calc)\n",
    "        gradients = tape.gradient(loss, model.trainable_variables)\n",
    "        optimizer.apply_gradients(zip(gradients, model.trainable_variables))\n",
    "\n",
    "        # update metrics\n",
    "        train_loss_metric.update_state(loss)\n",
    "        train_acc_metric.update_state(target, prediction)\n",
    "        \n",
    "#@tf.function        \n",
    "def eval_step(model, ds, loss_function, loss_metric, acc_metric, shape):\n",
    "    '''\n",
    "    Evaluation Loop.\n",
    "    '''\n",
    "    for sequence, target in ds:\n",
    "        # forward pass\n",
    "        prediction = model(sequence, training=False,shape = shape)\n",
    "        # update metrics\n",
    "        loss = loss_function(target, prediction)\n",
    "        loss_metric.update_state(loss)\n",
    "        acc_metric.update_state(target, prediction)\n",
    "    print(target.shape,prediction.shape)\n",
    "    fig, axe = plt.subplots(1,2)\n",
    "    axe[0] = plt.imshow(target[5,:,0], cmap='gray', origin='lower')\n",
    "    axe[1] = plt.imshow(prediction[5,:,0], cmap='gray', origin='lower')\n",
    "    plt.show()"
   ]
  },
  {
   "cell_type": "code",
   "execution_count": 54,
   "metadata": {},
   "outputs": [
    {
     "ename": "ValueError",
     "evalue": "Currently, you cannot build your model if it has positional or keyword arguments that are not inputs to the model, but are required for its `call` method. Instead, in order to instantiate and build your model, `call` your model on real tensor data with all expected call arguments.",
     "output_type": "error",
     "traceback": [
      "\u001b[0;31m---------------------------------------------------------------------------\u001b[0m",
      "\u001b[0;31mValueError\u001b[0m                                Traceback (most recent call last)",
      "\u001b[0;32m<ipython-input-54-b969b3b0ccdb>\u001b[0m in \u001b[0;36m<module>\u001b[0;34m\u001b[0m\n\u001b[1;32m      6\u001b[0m \u001b[0mmodel\u001b[0m \u001b[0;34m=\u001b[0m \u001b[0mConvLSTM\u001b[0m\u001b[0;34m(\u001b[0m\u001b[0mnum_filters\u001b[0m\u001b[0;34m=\u001b[0m\u001b[0;36m5\u001b[0m\u001b[0;34m)\u001b[0m\u001b[0;34m\u001b[0m\u001b[0;34m\u001b[0m\u001b[0m\n\u001b[1;32m      7\u001b[0m \u001b[0;34m\u001b[0m\u001b[0m\n\u001b[0;32m----> 8\u001b[0;31m \u001b[0mmodel\u001b[0m\u001b[0;34m.\u001b[0m\u001b[0mbuild\u001b[0m\u001b[0;34m(\u001b[0m\u001b[0;34m(\u001b[0m\u001b[0;36m16\u001b[0m\u001b[0;34m,\u001b[0m\u001b[0;36m120\u001b[0m\u001b[0;34m,\u001b[0m\u001b[0;36m72\u001b[0m\u001b[0;34m,\u001b[0m\u001b[0;36m36\u001b[0m\u001b[0;34m,\u001b[0m\u001b[0;36m2\u001b[0m\u001b[0;34m)\u001b[0m\u001b[0;34m)\u001b[0m\u001b[0;34m\u001b[0m\u001b[0;34m\u001b[0m\u001b[0m\n\u001b[0m\u001b[1;32m      9\u001b[0m \u001b[0mmodel\u001b[0m\u001b[0;34m.\u001b[0m\u001b[0msummary\u001b[0m\u001b[0;34m(\u001b[0m\u001b[0;34m)\u001b[0m \u001b[0;31m# shows number of parameters\u001b[0m\u001b[0;34m\u001b[0m\u001b[0;34m\u001b[0m\u001b[0m\n",
      "\u001b[0;32m~/anaconda3/envs/tf_2/lib/python3.8/site-packages/tensorflow/python/keras/engine/network.py\u001b[0m in \u001b[0;36mbuild\u001b[0;34m(self, input_shape)\u001b[0m\n\u001b[1;32m    671\u001b[0m             \u001b[0;32melse\u001b[0m\u001b[0;34m:\u001b[0m\u001b[0;34m\u001b[0m\u001b[0;34m\u001b[0m\u001b[0m\n\u001b[1;32m    672\u001b[0m               \u001b[0;31m# Has invalid call signature with unknown positional arguments.\u001b[0m\u001b[0;34m\u001b[0m\u001b[0;34m\u001b[0m\u001b[0;34m\u001b[0m\u001b[0m\n\u001b[0;32m--> 673\u001b[0;31m               raise ValueError(\n\u001b[0m\u001b[1;32m    674\u001b[0m                   \u001b[0;34m'Currently, you cannot build your model if it has '\u001b[0m\u001b[0;34m\u001b[0m\u001b[0;34m\u001b[0m\u001b[0m\n\u001b[1;32m    675\u001b[0m                   \u001b[0;34m'positional or keyword arguments that are not '\u001b[0m\u001b[0;34m\u001b[0m\u001b[0;34m\u001b[0m\u001b[0m\n",
      "\u001b[0;31mValueError\u001b[0m: Currently, you cannot build your model if it has positional or keyword arguments that are not inputs to the model, but are required for its `call` method. Instead, in order to instantiate and build your model, `call` your model on real tensor data with all expected call arguments."
     ]
    }
   ],
   "source": [
    "months = 10\n",
    "\n",
    "#Shape: None(unspecified) batches, timesteps(in days), 72 (latitudes), 36 (longitudes), 2(temperature&precipitation)\n",
    "input_shape = (16, months*30.5, 72, 36, 2)\n",
    "\n",
    "model = ConvLSTM(num_filters=5)\n",
    "\n",
    "model.build((16,120,72,36,2))\n",
    "model.summary() # shows number of parameters"
   ]
  },
  {
   "cell_type": "code",
   "execution_count": 55,
   "metadata": {},
   "outputs": [],
   "source": [
    "import datetime"
   ]
  },
  {
   "cell_type": "code",
   "execution_count": 56,
   "metadata": {
    "scrolled": false
   },
   "outputs": [],
   "source": [
    "epochs = 100\n",
    "learning_rate = 0.00001\n",
    "model = ConvLSTM(num_filters = 5)\n",
    "loss_function = tf.keras.losses.MAE\n",
    "optimizer = tf.keras.optimizers.Adam(learning_rate)\n",
    "\n",
    "timer = Timer()\n",
    "\n",
    "#train_acc_metric = tf.keras.metrics.Accuracy('train_accuracy')\n",
    "#val_acc_metric = tf.keras.metrics.CategoricalAccuracy('val_accuracy')\n",
    "\n",
    "train_loss_metric = tf.keras.metrics.Mean('train_loss')\n",
    "val_loss_metric = tf.keras.metrics.Mean('val_loss')\n",
    "\n",
    "# initialize the logger for Tensorboard visualization\n",
    "current_time = datetime.datetime.now().strftime(\"%Y%m%d-%H%M%S\")\n",
    "train_log_dir = 'logs/gradient_tape/' + current_time + '/train_ConvLSTM'    \n",
    "val_log_dir = 'logs/gradient_tape/' + current_time + '/val_ConvLSTM'       \n",
    "train_summary_writer = tf.summary.create_file_writer(train_log_dir)  \n",
    "val_summary_writer = tf.summary.create_file_writer(val_log_dir)\n",
    "\n",
    "\n",
    "times = []"
   ]
  },
  {
   "cell_type": "code",
   "execution_count": 57,
   "metadata": {},
   "outputs": [],
   "source": [
    "shape = (BATCH_SIZE, day_len, 36,72,2)"
   ]
  },
  {
   "cell_type": "code",
   "execution_count": 58,
   "metadata": {
    "scrolled": true
   },
   "outputs": [
    {
     "name": "stdout",
     "output_type": "stream",
     "text": [
      "\n",
      "[EPOCH] ____________________0____________________\n",
      "[0] - Finished Epoch in 9.57 seconds - train_loss: 1.3089, train_acc: 0.4669\n",
      "(16, 36, 72, 2) (16, 36, 72, 2)\n"
     ]
    },
    {
     "data": {
      "image/png": "[encoded data removed]",
      "text/plain": [
       "<Figure size 432x288 with 2 Axes>"
      ]
     },
     "metadata": {
      "needs_background": "light"
     },
     "output_type": "display_data"
    },
    {
     "name": "stdout",
     "output_type": "stream",
     "text": [
      "\n",
      "[0] - Finished evaluation - val_loss: 0.1539, val_accuracy: 0.5006\n",
      "\n",
      "[INFO] - Total time elapsed: 0.1031 min. Total time remaining: 10.2081 min.\n",
      "\n",
      "[EPOCH] ____________________1____________________\n",
      "[1] - Finished Epoch in 6.88 seconds - train_loss: 1.3022, train_acc: 0.4676\n",
      "(16, 36, 72, 2) (16, 36, 72, 2)\n"
     ]
    },
    {
     "data": {
      "image/png": "[encoded data removed]",
      "text/plain": [
       "<Figure size 432x288 with 2 Axes>"
      ]
     },
     "metadata": {
      "needs_background": "light"
     },
     "output_type": "display_data"
    },
    {
     "name": "stdout",
     "output_type": "stream",
     "text": [
      "\n",
      "[1] - Finished evaluation - val_loss: 0.1517, val_accuracy: 0.5233\n",
      "\n",
      "[EPOCH] ____________________2____________________\n",
      "[2] - Finished Epoch in 6.83 seconds - train_loss: 1.3011, train_acc: 0.4661\n",
      "(16, 36, 72, 2) (16, 36, 72, 2)\n"
     ]
    },
    {
     "data": {
      "image/png": "[encoded data removed]",
      "text/plain": [
       "<Figure size 432x288 with 2 Axes>"
      ]
     },
     "metadata": {
      "needs_background": "light"
     },
     "output_type": "display_data"
    },
    {
     "name": "stdout",
     "output_type": "stream",
     "text": [
      "\n",
      "[2] - Finished evaluation - val_loss: 0.1546, val_accuracy: 0.5474\n",
      "\n",
      "[EPOCH] ____________________3____________________\n",
      "[3] - Finished Epoch in 6.97 seconds - train_loss: 1.2985, train_acc: 0.4685\n",
      "(16, 36, 72, 2) (16, 36, 72, 2)\n"
     ]
    },
    {
     "data": {
      "image/png": "[encoded data removed]",
      "text/plain": [
       "<Figure size 432x288 with 2 Axes>"
      ]
     },
     "metadata": {
      "needs_background": "light"
     },
     "output_type": "display_data"
    },
    {
     "name": "stdout",
     "output_type": "stream",
     "text": [
      "\n",
      "[3] - Finished evaluation - val_loss: 0.1499, val_accuracy: 0.5657\n",
      "\n",
      "[INFO] - Total time elapsed: 0.4067 min. Total time remaining: 9.7614 min.\n",
      "\n",
      "[EPOCH] ____________________4____________________\n",
      "[4] - Finished Epoch in 7.06 seconds - train_loss: 1.2943, train_acc: 0.4671\n",
      "(16, 36, 72, 2) (16, 36, 72, 2)\n"
     ]
    },
    {
     "data": {
      "image/png": "[encoded data removed]",
      "text/plain": [
       "<Figure size 432x288 with 2 Axes>"
      ]
     },
     "metadata": {
      "needs_background": "light"
     },
     "output_type": "display_data"
    },
    {
     "name": "stdout",
     "output_type": "stream",
     "text": [
      "\n",
      "[4] - Finished evaluation - val_loss: 0.1500, val_accuracy: 0.5809\n",
      "\n",
      "[EPOCH] ____________________5____________________\n",
      "[5] - Finished Epoch in 7.04 seconds - train_loss: 1.2927, train_acc: 0.4650\n"
     ]
    },
    {
     "ename": "KeyboardInterrupt",
     "evalue": "",
     "output_type": "error",
     "traceback": [
      "\u001b[0;31m---------------------------------------------------------------------------\u001b[0m",
      "\u001b[0;31mKeyboardInterrupt\u001b[0m                         Traceback (most recent call last)",
      "\u001b[0;32m<ipython-input-58-ba33a585651f>\u001b[0m in \u001b[0;36m<module>\u001b[0;34m\u001b[0m\n\u001b[1;32m     23\u001b[0m     \u001b[0mtimer\u001b[0m\u001b[0;34m.\u001b[0m\u001b[0mstart\u001b[0m\u001b[0;34m(\u001b[0m\u001b[0;34m)\u001b[0m\u001b[0;34m\u001b[0m\u001b[0;34m\u001b[0m\u001b[0m\n\u001b[1;32m     24\u001b[0m \u001b[0;34m\u001b[0m\u001b[0m\n\u001b[0;32m---> 25\u001b[0;31m     eval_step(model, val_ds, loss_function, \n\u001b[0m\u001b[1;32m     26\u001b[0m               \u001b[0mloss_metric\u001b[0m\u001b[0;34m=\u001b[0m\u001b[0mval_loss_metric\u001b[0m\u001b[0;34m,\u001b[0m\u001b[0;34m\u001b[0m\u001b[0;34m\u001b[0m\u001b[0m\n\u001b[1;32m     27\u001b[0m               \u001b[0macc_metric\u001b[0m\u001b[0;34m=\u001b[0m\u001b[0mval_acc_metric\u001b[0m\u001b[0;34m,\u001b[0m\u001b[0;34m\u001b[0m\u001b[0;34m\u001b[0m\u001b[0m\n",
      "\u001b[0;32m<ipython-input-53-cc4173f995bd>\u001b[0m in \u001b[0;36meval_step\u001b[0;34m(model, ds, loss_function, loss_metric, acc_metric, shape)\u001b[0m\n\u001b[1;32m     23\u001b[0m     \u001b[0mEvaluation\u001b[0m \u001b[0mLoop\u001b[0m\u001b[0;34m.\u001b[0m\u001b[0;34m\u001b[0m\u001b[0;34m\u001b[0m\u001b[0m\n\u001b[1;32m     24\u001b[0m     '''\n\u001b[0;32m---> 25\u001b[0;31m     \u001b[0;32mfor\u001b[0m \u001b[0msequence\u001b[0m\u001b[0;34m,\u001b[0m \u001b[0mtarget\u001b[0m \u001b[0;32min\u001b[0m \u001b[0mds\u001b[0m\u001b[0;34m:\u001b[0m\u001b[0;34m\u001b[0m\u001b[0;34m\u001b[0m\u001b[0m\n\u001b[0m\u001b[1;32m     26\u001b[0m         \u001b[0;31m# forward pass\u001b[0m\u001b[0;34m\u001b[0m\u001b[0;34m\u001b[0m\u001b[0;34m\u001b[0m\u001b[0m\n\u001b[1;32m     27\u001b[0m         \u001b[0mprediction\u001b[0m \u001b[0;34m=\u001b[0m \u001b[0mmodel\u001b[0m\u001b[0;34m(\u001b[0m\u001b[0msequence\u001b[0m\u001b[0;34m,\u001b[0m \u001b[0mtraining\u001b[0m\u001b[0;34m=\u001b[0m\u001b[0;32mFalse\u001b[0m\u001b[0;34m,\u001b[0m\u001b[0mshape\u001b[0m \u001b[0;34m=\u001b[0m \u001b[0mshape\u001b[0m\u001b[0;34m)\u001b[0m\u001b[0;34m\u001b[0m\u001b[0;34m\u001b[0m\u001b[0m\n",
      "\u001b[0;32m~/anaconda3/envs/tf_2/lib/python3.8/site-packages/tensorflow/python/data/ops/iterator_ops.py\u001b[0m in \u001b[0;36m__next__\u001b[0;34m(self)\u001b[0m\n\u001b[1;32m    629\u001b[0m \u001b[0;34m\u001b[0m\u001b[0m\n\u001b[1;32m    630\u001b[0m   \u001b[0;32mdef\u001b[0m \u001b[0m__next__\u001b[0m\u001b[0;34m(\u001b[0m\u001b[0mself\u001b[0m\u001b[0;34m)\u001b[0m\u001b[0;34m:\u001b[0m  \u001b[0;31m# For Python 3 compatibility\u001b[0m\u001b[0;34m\u001b[0m\u001b[0;34m\u001b[0m\u001b[0m\n\u001b[0;32m--> 631\u001b[0;31m     \u001b[0;32mreturn\u001b[0m \u001b[0mself\u001b[0m\u001b[0;34m.\u001b[0m\u001b[0mnext\u001b[0m\u001b[0;34m(\u001b[0m\u001b[0;34m)\u001b[0m\u001b[0;34m\u001b[0m\u001b[0;34m\u001b[0m\u001b[0m\n\u001b[0m\u001b[1;32m    632\u001b[0m \u001b[0;34m\u001b[0m\u001b[0m\n\u001b[1;32m    633\u001b[0m   \u001b[0;32mdef\u001b[0m \u001b[0m_next_internal\u001b[0m\u001b[0;34m(\u001b[0m\u001b[0mself\u001b[0m\u001b[0;34m)\u001b[0m\u001b[0;34m:\u001b[0m\u001b[0;34m\u001b[0m\u001b[0;34m\u001b[0m\u001b[0m\n",
      "\u001b[0;32m~/anaconda3/envs/tf_2/lib/python3.8/site-packages/tensorflow/python/data/ops/iterator_ops.py\u001b[0m in \u001b[0;36mnext\u001b[0;34m(self)\u001b[0m\n\u001b[1;32m    668\u001b[0m     \u001b[0;34m\"\"\"Returns a nested structure of `Tensor`s containing the next element.\"\"\"\u001b[0m\u001b[0;34m\u001b[0m\u001b[0;34m\u001b[0m\u001b[0m\n\u001b[1;32m    669\u001b[0m     \u001b[0;32mtry\u001b[0m\u001b[0;34m:\u001b[0m\u001b[0;34m\u001b[0m\u001b[0;34m\u001b[0m\u001b[0m\n\u001b[0;32m--> 670\u001b[0;31m       \u001b[0;32mreturn\u001b[0m \u001b[0mself\u001b[0m\u001b[0;34m.\u001b[0m\u001b[0m_next_internal\u001b[0m\u001b[0;34m(\u001b[0m\u001b[0;34m)\u001b[0m\u001b[0;34m\u001b[0m\u001b[0;34m\u001b[0m\u001b[0m\n\u001b[0m\u001b[1;32m    671\u001b[0m     \u001b[0;32mexcept\u001b[0m \u001b[0merrors\u001b[0m\u001b[0;34m.\u001b[0m\u001b[0mOutOfRangeError\u001b[0m\u001b[0;34m:\u001b[0m\u001b[0;34m\u001b[0m\u001b[0;34m\u001b[0m\u001b[0m\n\u001b[1;32m    672\u001b[0m       \u001b[0;32mraise\u001b[0m \u001b[0mStopIteration\u001b[0m\u001b[0;34m\u001b[0m\u001b[0;34m\u001b[0m\u001b[0m\n",
      "\u001b[0;32m~/anaconda3/envs/tf_2/lib/python3.8/site-packages/tensorflow/python/data/ops/iterator_ops.py\u001b[0m in \u001b[0;36m_next_internal\u001b[0;34m(self)\u001b[0m\n\u001b[1;32m    650\u001b[0m         \u001b[0;31m# and instead mimic ops placement in graphs: Operations on resource\u001b[0m\u001b[0;34m\u001b[0m\u001b[0;34m\u001b[0m\u001b[0;34m\u001b[0m\u001b[0m\n\u001b[1;32m    651\u001b[0m         \u001b[0;31m# handles execute on the same device as where the resource is placed.\u001b[0m\u001b[0;34m\u001b[0m\u001b[0;34m\u001b[0m\u001b[0;34m\u001b[0m\u001b[0m\n\u001b[0;32m--> 652\u001b[0;31m         ret = gen_dataset_ops.iterator_get_next(\n\u001b[0m\u001b[1;32m    653\u001b[0m             \u001b[0mself\u001b[0m\u001b[0;34m.\u001b[0m\u001b[0m_iterator_resource\u001b[0m\u001b[0;34m,\u001b[0m\u001b[0;34m\u001b[0m\u001b[0;34m\u001b[0m\u001b[0m\n\u001b[1;32m    654\u001b[0m             \u001b[0moutput_types\u001b[0m\u001b[0;34m=\u001b[0m\u001b[0mself\u001b[0m\u001b[0;34m.\u001b[0m\u001b[0m_flat_output_types\u001b[0m\u001b[0;34m,\u001b[0m\u001b[0;34m\u001b[0m\u001b[0;34m\u001b[0m\u001b[0m\n",
      "\u001b[0;32m~/anaconda3/envs/tf_2/lib/python3.8/site-packages/tensorflow/python/ops/gen_dataset_ops.py\u001b[0m in \u001b[0;36miterator_get_next\u001b[0;34m(iterator, output_types, output_shapes, name)\u001b[0m\n\u001b[1;32m   2348\u001b[0m   \u001b[0;32mif\u001b[0m \u001b[0mtld\u001b[0m\u001b[0;34m.\u001b[0m\u001b[0mis_eager\u001b[0m\u001b[0;34m:\u001b[0m\u001b[0;34m\u001b[0m\u001b[0;34m\u001b[0m\u001b[0m\n\u001b[1;32m   2349\u001b[0m     \u001b[0;32mtry\u001b[0m\u001b[0;34m:\u001b[0m\u001b[0;34m\u001b[0m\u001b[0;34m\u001b[0m\u001b[0m\n\u001b[0;32m-> 2350\u001b[0;31m       _result = pywrap_tfe.TFE_Py_FastPathExecute(\n\u001b[0m\u001b[1;32m   2351\u001b[0m         \u001b[0m_ctx\u001b[0m\u001b[0;34m.\u001b[0m\u001b[0m_context_handle\u001b[0m\u001b[0;34m,\u001b[0m \u001b[0mtld\u001b[0m\u001b[0;34m.\u001b[0m\u001b[0mdevice_name\u001b[0m\u001b[0;34m,\u001b[0m \u001b[0;34m\"IteratorGetNext\"\u001b[0m\u001b[0;34m,\u001b[0m \u001b[0mname\u001b[0m\u001b[0;34m,\u001b[0m\u001b[0;34m\u001b[0m\u001b[0;34m\u001b[0m\u001b[0m\n\u001b[1;32m   2352\u001b[0m         \u001b[0mtld\u001b[0m\u001b[0;34m.\u001b[0m\u001b[0mop_callbacks\u001b[0m\u001b[0;34m,\u001b[0m \u001b[0miterator\u001b[0m\u001b[0;34m,\u001b[0m \u001b[0;34m\"output_types\"\u001b[0m\u001b[0;34m,\u001b[0m \u001b[0moutput_types\u001b[0m\u001b[0;34m,\u001b[0m\u001b[0;34m\u001b[0m\u001b[0;34m\u001b[0m\u001b[0m\n",
      "\u001b[0;31mKeyboardInterrupt\u001b[0m: "
     ]
    }
   ],
   "source": [
    "for epoch in range(epochs):\n",
    "    print(f'\\n[EPOCH] ____________________{epoch}____________________')\n",
    "    \n",
    "    # training step with metrics update--------------------------------------------------------\n",
    "    timer.start()\n",
    "\n",
    "    train_step(model, train_ds, loss_function, optimizer, train_loss_metric, shape)\n",
    "\n",
    "    # Evaluating training metrics\n",
    "    train_loss = train_loss_metric.result()\n",
    "    #train_acc = train_acc_metric.result()\n",
    "    \n",
    "    with train_summary_writer.as_default():     # logging our metrics to a file which is used by tensorboard\n",
    "        tf.summary.scalar('loss', train_loss, step=epoch)\n",
    "        #tf.summary.scalar('accuracy', train_acc, step=epoch)\n",
    "\n",
    "    \n",
    "    elapsed_time = timer.stop()\n",
    "    \n",
    "    print(f'[{epoch}] - Finished Epoch in {elapsed_time:0.2f} seconds - train_loss: {train_loss:0.4f}, train_acc: {train_acc:0.4f}')\n",
    "    \n",
    "    # evaluation step with metrics update--------------------------------------------------------\n",
    "    timer.start()\n",
    "\n",
    "    eval_step(model, val_ds, loss_function, \n",
    "              loss_metric=val_loss_metric, \n",
    "             shape = shape)\n",
    "\n",
    "    # Evaluating validation metrics\n",
    "    val_loss = val_loss_metric.result()\n",
    "    val_acc = val_acc_metric.result()\n",
    "    \n",
    "    with val_summary_writer.as_default():       # logging our metrics to a file which is used by tensorboard\n",
    "        tf.summary.scalar('loss', val_loss, step=epoch)\n",
    "        #tf.summary.scalar('accuracy', val_acc, step=epoch)\n",
    "    \n",
    "    print(f'\\n[{epoch}] - Finished evaluation - val_loss: {val_loss:0.4f}')#, val_accuracy: {val_acc:0.4f}')\n",
    "    \n",
    "    # Resetting train and validation metrics-----------------------------------------------------\n",
    "    #train_acc_metric.reset_states()\n",
    "    #val_acc_metric.reset_states()\n",
    "    train_loss_metric.reset_states()\n",
    "    val_loss_metric.reset_states()\n",
    "    \n",
    "    elapsed_time = timer.stop()\n",
    "    times.append(elapsed_time)\n",
    "  \n",
    "    if epoch%3 == 0:\n",
    "        print(f'\\n[INFO] - Total time elapsed: {np.sum(times)/60:0.4f} min. Total time remaining: {(np.sum(times)/(epoch+1))*(epochs-epoch-1)/60:0.4f} min.')\n",
    "\n",
    "print(f'[INFO] - Total run time: {np.sum(times)/60:0.4f} min.')"
   ]
  },
  {
   "cell_type": "code",
   "execution_count": 45,
   "metadata": {},
   "outputs": [],
   "source": [
    "for i,t in train_ds.take(1):\n",
    "    a =model(i,training=False, shape = shape)"
   ]
  },
  {
   "cell_type": "code",
   "execution_count": 46,
   "metadata": {},
   "outputs": [],
   "source": [
    "a = a.numpy()"
   ]
  },
  {
   "cell_type": "code",
   "execution_count": 64,
   "metadata": {},
   "outputs": [
    {
     "data": {
      "text/plain": [
       "0.0002720684"
      ]
     },
     "execution_count": 64,
     "metadata": {},
     "output_type": "execute_result"
    }
   ],
   "source": [
    "np.median(a)"
   ]
  },
  {
   "cell_type": "code",
   "execution_count": 56,
   "metadata": {},
   "outputs": [
    {
     "data": {
      "text/plain": [
       "-2.1227619e-08"
      ]
     },
     "execution_count": 56,
     "metadata": {},
     "output_type": "execute_result"
    }
   ],
   "source": [
    "t.numpy().min()"
   ]
  },
  {
   "cell_type": "code",
   "execution_count": 63,
   "metadata": {},
   "outputs": [
    {
     "data": {
      "text/plain": [
       "0.0"
      ]
     },
     "execution_count": 63,
     "metadata": {},
     "output_type": "execute_result"
    }
   ],
   "source": [
    "np.median(t.numpy())"
   ]
  },
  {
   "cell_type": "code",
   "execution_count": 61,
   "metadata": {},
   "outputs": [],
   "source": [
    "tf.keras.backend.clear_session()"
   ]
  },
  {
   "cell_type": "code",
   "execution_count": null,
   "metadata": {},
   "outputs": [],
   "source": []
  }
 ],
 "metadata": {
  "kernelspec": {
   "display_name": "Python 3",
   "language": "python",
   "name": "python3"
  },
  "language_info": {
   "codemirror_mode": {
    "name": "ipython",
    "version": 3
   },
   "file_extension": ".py",
   "mimetype": "text/x-python",
   "name": "python",
   "nbconvert_exporter": "python",
   "pygments_lexer": "ipython3",
   "version": "3.8.5"
  }
 },
 "nbformat": 4,
 "nbformat_minor": 4
}
